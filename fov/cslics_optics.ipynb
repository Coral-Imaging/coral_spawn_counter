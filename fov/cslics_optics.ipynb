#!/bin/bash python3

import numpy as np
import matplotlib.pyplot as plt

f  = 12 # mm focal length of lens
npix_horz = 3840 # horizontal pixels
npix_vert = 2160 # vertical pixels
pix_size = 2.0/1000 # mm pixel size
h_horz = npix_horz * pix_size # horizontal size in mm
h_vert = npix_vert * pix_size # vertical size in mm

n = 1.33 # refractive index of water
f_effective = f * n # effective focal length in water

N = 2.0 # f-number
c = 2.0 * pix_size # circle of confusion (um to mm), pixel size (worst case), 2.0*pixel size (best case)

wd_air = 100 # mm working distance in air
wd_water = 100 # mm working distance in water

#############################
# in air first:
# calculate FOV in air
FOV_horz_air = h_horz * wd_air / f # mm
print(f'FOV_horz_air = {FOV_horz_air} mm') # mm

FOV_vert_air = h_vert * wd_air / f # mm
print(f'FOV_vert_air = {FOV_vert_air} mm') # mm

# dof
m = h_horz / FOV_horz_air # magnification
def calculate_dof(f, N, c, m):
    dof = (2 * N * c * (m  + 1)) / (m**2 - (N*c/f)**2) 
    return dof

# Calculate DOF
# dof_near, dof_far = calculate_dof(f, N, c, m)
# print(f'DOF near: {dof_near} mm')
# print(f'DOF far: {dof_far} mm')

# Calculate DOF using method
dof = calculate_dof(f, N, c, m)
print(f'DOF: {dof} mm')

# focus volume in air
focus_volume_air = FOV_horz_air * FOV_vert_air * dof
print(f'Focus volume in air: {focus_volume_air} mm^3')
print(f'Focus volume in air: {focus_volume_air/1000} ml')

#############################
# now in water:
# calculate FOV in water

FOV_horz_water = h_horz * wd_water / f_effective # mm
print(f'FOV_horz_water = {FOV_horz_water} mm') # mm 
FOV_vert_water = h_vert * wd_water / f_effective # mm
print(f'FOV_vert_water = {FOV_vert_water} mm') # mm

m_water = h_horz / FOV_horz_water # magnification in water
dof_water = calculate_dof(f_effective, N, c, m_water) # depth of field in water
print(f'DOF_water: {dof_water} mm') # mm
# focus volume in water
focus_volume_water = FOV_horz_water * FOV_vert_water * dof_water
print(f'Focus volume in water: {focus_volume_water} mm^3')
print(f'Focus volume in water: {focus_volume_water/1000} ml')



